{
 "cells": [
  {
   "cell_type": "code",
   "execution_count": 71,
   "id": "44d49544-f035-4f73-9a66-9a26834d4ba7",
   "metadata": {},
   "outputs": [],
   "source": [
    "import seekpath\n",
    "from seekpath.brillouinzone.brillouinzone import get_BZ\n",
    "\n",
    "import ase.io\n",
    "import ase.visualize\n",
    "\n",
    "import numpy as np\n",
    "\n",
    "from pathlib import Path"
   ]
  },
  {
   "cell_type": "code",
   "execution_count": 85,
   "id": "7e29d26f-e925-4a5b-88f5-62ca43877907",
   "metadata": {},
   "outputs": [],
   "source": [
    "struct_file = Path(\"./mc3d-10000.cif\")\n",
    "atoms = ase.io.read(struct_file)"
   ]
  },
  {
   "cell_type": "code",
   "execution_count": 86,
   "id": "c0374628-34cd-4317-acf1-858c2b480ef4",
   "metadata": {},
   "outputs": [],
   "source": [
    "seekpath_structure = (atoms.cell, atoms.get_scaled_positions(), atoms.numbers)"
   ]
  },
  {
   "cell_type": "code",
   "execution_count": 87,
   "id": "b9a67837-6df2-4b4d-9b76-699133ac7e30",
   "metadata": {},
   "outputs": [],
   "source": [
    "def get_json_for_visualizer(cell, relcoords, atomic_numbers):\n",
    "    # Implementation from tools-seekpath\n",
    "    # https://github.com/materialscloud-org/tools-seekpath/blob/3d5acaa627d075a3c9ef9d728f9e4fc9824f7cd3/compute/seekpath_web_module.py#L36\n",
    "    hpkot = seekpath.hpkot\n",
    "    brillouinzone = seekpath.brillouinzone\n",
    "\n",
    "    system = (np.array(cell), np.array(relcoords), np.array(atomic_numbers))\n",
    "    res = hpkot.get_path(system, with_time_reversal=False)\n",
    "\n",
    "    real_lattice = res[\"primitive_lattice\"]\n",
    "    # rec_lattice = np.linalg.inv(real_lattice).T # Missing 2pi!\n",
    "    rec_lattice = np.array(hpkot.tools.get_reciprocal_cell_rows(real_lattice))\n",
    "    b1, b2, b3 = rec_lattice\n",
    "\n",
    "    faces_data = brillouinzone.brillouinzone.get_BZ(b1=b1, b2=b2, b3=b3)\n",
    "\n",
    "    response = {}\n",
    "    response[\"faces_data\"] = faces_data\n",
    "    response[\"b1\"] = b1.tolist()\n",
    "    response[\"b2\"] = b2.tolist()\n",
    "    response[\"b3\"] = b3.tolist()\n",
    "    ## Convert to absolute\n",
    "    response[\"kpoints\"] = {\n",
    "        k: (v[0] * b1 + v[1] * b2 + v[2] * b3).tolist()\n",
    "        for k, v in res[\"point_coords\"].items()\n",
    "    }\n",
    "    response[\"kpoints_rel\"] = {\n",
    "        k: [v[0], v[1], v[2]] for k, v in res[\"point_coords\"].items()\n",
    "    }\n",
    "    response[\"path\"] = res[\"path\"]\n",
    "\n",
    "    # It should use the same logic, so give the same cell as above\n",
    "    res_explicit = seekpath.get_explicit_k_path(system, with_time_reversal=False)\n",
    "    for k in res_explicit:\n",
    "        if k == \"segments\" or k.startswith(\"explicit_\"):\n",
    "            if isinstance(res_explicit[k], np.ndarray):\n",
    "                response[k] = res_explicit[k].tolist()\n",
    "            else:\n",
    "                response[k] = res_explicit[k]\n",
    "\n",
    "    if (\n",
    "        np.sum(\n",
    "            np.abs(\n",
    "                np.array(res_explicit[\"reciprocal_primitive_lattice\"])\n",
    "                - np.array(res[\"reciprocal_primitive_lattice\"])\n",
    "            )\n",
    "        )\n",
    "        > 1.0e-7\n",
    "    ):\n",
    "        raise AssertionError(\"Got different reciprocal cells...\")\n",
    "\n",
    "    # Response for JS, and path_results\n",
    "    return response, res\n"
   ]
  },
  {
   "cell_type": "code",
   "execution_count": 88,
   "id": "55218112-0e66-4ba9-93e1-2b97d53f67e1",
   "metadata": {},
   "outputs": [
    {
     "data": {
      "text/plain": [
       "dict_keys(['faces_data', 'b1', 'b2', 'b3', 'kpoints', 'kpoints_rel', 'path', 'explicit_kpoints_rel', 'explicit_kpoints_linearcoord', 'explicit_kpoints_labels', 'explicit_kpoints_abs', 'explicit_segments'])"
      ]
     },
     "execution_count": 88,
     "metadata": {},
     "output_type": "execute_result"
    }
   ],
   "source": [
    "response, res = get_json_for_visualizer(atoms.cell, atoms.get_scaled_positions(), atoms.numbers)\n",
    "response.keys()"
   ]
  },
  {
   "cell_type": "code",
   "execution_count": 89,
   "id": "f9eefb92-300c-401f-8951-6bc28ce6f6fd",
   "metadata": {},
   "outputs": [],
   "source": [
    "def get_data_for_visualizer(cell, relcoords, atomic_numbers):\n",
    "    # new implementation\n",
    "    system = (np.array(cell), np.array(relcoords), np.array(atomic_numbers))\n",
    "    res = seekpath.get_explicit_k_path(system, with_time_reversal=False)\n",
    "    \n",
    "    b1, b2, b3 = res['reciprocal_primitive_lattice']\n",
    "    faces_data = get_BZ(b1=b1, b2=b2, b3=b3)\n",
    "\n",
    "    kpoints_rel = res[\"point_coords\"]\n",
    "    kpoints_abs = {\n",
    "        k: (v[0] * np.array(b1) + v[1] * np.array(b2) + v[2] * np.array(b3)).tolist()\n",
    "        for k, v in kpoints_rel.items()\n",
    "    }\n",
    "\n",
    "    response = {\n",
    "        \"faces_data\": faces_data,\n",
    "        \"b1\": b1,\n",
    "        \"b2\": b2,\n",
    "        \"b3\": b3,\n",
    "        \"kpoints\": kpoints_abs,\n",
    "        \"kpoints_rel\": kpoints_rel,\n",
    "        \"path\": res[\"path\"],\n",
    "        \"explicit_kpoints_rel\": res[\"explicit_kpoints_rel\"].tolist(),\n",
    "        \"explicit_kpoints_linearcoord\": res[\"explicit_kpoints_linearcoord\"].tolist(),\n",
    "        \"explicit_kpoints_labels\": res[\"explicit_kpoints_labels\"],\n",
    "        \"explicit_kpoints_abs\": res[\"explicit_kpoints_abs\"].tolist(),\n",
    "        \"explicit_segments\": res[\"explicit_segments\"],\n",
    "    }\n",
    "\n",
    "    return response"
   ]
  },
  {
   "cell_type": "code",
   "execution_count": 90,
   "id": "da6f81d9-3397-4f96-9c9d-6b9dcf831f4d",
   "metadata": {},
   "outputs": [],
   "source": [
    "res_new = get_data_for_visualizer(atoms.cell, atoms.get_scaled_positions(), atoms.numbers)"
   ]
  },
  {
   "cell_type": "code",
   "execution_count": 91,
   "id": "9bb0685d-38b4-4e26-add6-d470fe25e426",
   "metadata": {},
   "outputs": [
    {
     "data": {
      "text/plain": [
       "True"
      ]
     },
     "execution_count": 91,
     "metadata": {},
     "output_type": "execute_result"
    }
   ],
   "source": [
    "# check if the new function gives the same output as the old one\n",
    "res_new == response"
   ]
  },
  {
   "cell_type": "code",
   "execution_count": 92,
   "id": "efdc86a7-8b21-46bc-b371-d3e0bad6c0ca",
   "metadata": {},
   "outputs": [],
   "source": [
    "import json\n",
    "\n",
    "with open(f\"./{struct_file.stem}.json\", \"w\") as f:\n",
    "    json.dump(res_new, f, indent=2)"
   ]
  },
  {
   "cell_type": "code",
   "execution_count": null,
   "id": "23ede172-c1a0-448f-8f41-1974ba67124d",
   "metadata": {},
   "outputs": [],
   "source": []
  },
  {
   "cell_type": "code",
   "execution_count": null,
   "id": "bb3054f4-9135-4d25-a00f-98a2b820fda3",
   "metadata": {},
   "outputs": [],
   "source": []
  }
 ],
 "metadata": {
  "kernelspec": {
   "display_name": "Python 3 (ipykernel)",
   "language": "python",
   "name": "python3"
  },
  "language_info": {
   "codemirror_mode": {
    "name": "ipython",
    "version": 3
   },
   "file_extension": ".py",
   "mimetype": "text/x-python",
   "name": "python",
   "nbconvert_exporter": "python",
   "pygments_lexer": "ipython3",
   "version": "3.10.13"
  }
 },
 "nbformat": 4,
 "nbformat_minor": 5
}
