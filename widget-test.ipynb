{
 "cells": [
  {
   "cell_type": "code",
   "execution_count": null,
   "metadata": {},
   "outputs": [],
   "source": [
    "import json\n",
    "data_paths = [\n",
    "    \"./seekpath_example_data/mc3d-10.json\",\n",
    "    \"./seekpath_example_data/mc3d-10000.json\",\n",
    "]\n",
    "datasets = []\n",
    "for dp in data_paths:\n",
    "    with open(dp, 'r') as file:\n",
    "        datasets.append(json.load(file))"
   ]
  },
  {
   "cell_type": "code",
   "execution_count": null,
   "metadata": {},
   "outputs": [],
   "source": [
    "from jupyter_widget import BzWidget\n",
    "\n",
    "bz = BzWidget()\n",
    "bz.seekpathData = datasets[0]\n",
    "bz"
   ]
  },
  {
   "cell_type": "code",
   "execution_count": null,
   "metadata": {},
   "outputs": [],
   "source": [
    "# switch to a different dataset:\n",
    "bz.seekpathData = datasets[1]"
   ]
  },
  {
   "cell_type": "code",
   "execution_count": null,
   "metadata": {},
   "outputs": [],
   "source": [
    "# make sure a 2nd widget works independently\n",
    "bz2 = BzWidget()\n",
    "bz2.seekpathData = datasets[0]\n",
    "bz2"
   ]
  },
  {
   "cell_type": "code",
   "execution_count": null,
   "metadata": {
    "editable": true,
    "slideshow": {
     "slide_type": ""
    },
    "tags": []
   },
   "outputs": [],
   "source": []
  }
 ],
 "metadata": {
  "kernelspec": {
   "display_name": "Python 3 (ipykernel)",
   "language": "python",
   "name": "python3"
  },
  "language_info": {
   "codemirror_mode": {
    "name": "ipython",
    "version": 3
   },
   "file_extension": ".py",
   "mimetype": "text/x-python",
   "name": "python",
   "nbconvert_exporter": "python",
   "pygments_lexer": "ipython3",
   "version": "3.10.0"
  }
 },
 "nbformat": 4,
 "nbformat_minor": 4
}
